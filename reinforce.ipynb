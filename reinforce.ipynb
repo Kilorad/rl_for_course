{
  "cells": [
    {
      "cell_type": "markdown",
      "metadata": {
        "id": "-NJjb056Jvnu"
      },
      "source": [
        "## Градиент стратегии: REINFORCE."
      ]
    },
    {
      "cell_type": "markdown",
      "metadata": {
        "id": "6j1Vz2l4Jvnx"
      },
      "source": [
        "Теорема о градиенте стратегии связывает градиент целевой функции  и градиент самой стратегии:\n",
        "\n",
        "$$\\nabla_\\theta J(\\theta) = \\mathbb{E}_\\pi [Q^\\pi(s, a) \\nabla_\\theta \\ln \\pi_\\theta(a \\vert s)]$$\n",
        "\n",
        "Если использовать метод Монте-Карло в качестве несмещенной оценки $Q^\\pi(s, a)$ отдачу $R_t$, то тогда происходит переход к алгоритму REINFORCE и обновление весов будет осуществляться по правилу:\n",
        "\n",
        "$$\\nabla_\\theta J(\\theta) = [R_t \\nabla_\\theta \\ln \\pi_\\theta(A_t \\vert S_t)]$$"
      ]
    },
    {
      "cell_type": "code",
      "execution_count": null,
      "metadata": {
        "id": "JQtDbgDIJvnx"
      },
      "outputs": [],
      "source": [
        "try:\n",
        "    import google.colab\n",
        "    COLAB = True\n",
        "except ModuleNotFoundError:\n",
        "    COLAB = False\n",
        "    pass\n",
        "\n",
        "if COLAB:\n",
        "    !pip -q install \"gymnasium[classic-control, atari, accept-rom-license]\"\n",
        "    !pip -q install piglet\n",
        "    !pip -q install imageio_ffmpeg\n",
        "    !pip -q install moviepy==1.0.3"
      ]
    },
    {
      "cell_type": "code",
      "execution_count": null,
      "metadata": {
        "pycharm": {
          "name": "#%%\n"
        },
        "id": "bcsEMVRGJvny"
      },
      "outputs": [],
      "source": [
        "import torch\n",
        "import torch.nn as nn\n",
        "from torch.distributions import Categorical\n",
        "import gymnasium as gym\n",
        "import numpy as np\n",
        "\n",
        "device = torch.device(\"cuda:0\" if torch.cuda.is_available() else \"cpu\")\n",
        "device"
      ]
    },
    {
      "cell_type": "markdown",
      "metadata": {
        "id": "wAc7KU4UJvny"
      },
      "source": [
        "### Основной цикл"
      ]
    },
    {
      "cell_type": "code",
      "execution_count": null,
      "metadata": {
        "id": "MdXpgvzVJvnz"
      },
      "outputs": [],
      "source": [
        "def print_mean_reward(step, episode_rewards):\n",
        "    if not episode_rewards:\n",
        "        return\n",
        "\n",
        "    t = min(50, len(episode_rewards))\n",
        "    mean_reward = sum(episode_rewards[-t:]) / t\n",
        "    print(f\"step: {str(step).zfill(6)}, mean reward: {mean_reward:.2f}\")\n",
        "    return mean_reward\n",
        "\n",
        "\n",
        "class Rollout:\n",
        "    def __init__(self):\n",
        "        self.logprobs = []\n",
        "        self.rewards = []\n",
        "        self.is_terminals = []\n",
        "\n",
        "    def append(self, log_prob, reward, done):\n",
        "        self.logprobs.append(log_prob)\n",
        "        self.rewards.append(reward)\n",
        "        self.is_terminals.append(done)\n",
        "\n",
        "\n",
        "def run(env: gym.Env, hidden_size: int, lr: float, gamma: float, max_episodes: int, rollout_size: int):\n",
        "    # Инициализируйте агента `agent`\n",
        "    ####### Здесь ваш код ########\n",
        "    agent = ReinforceAgent(env.observation_space.shape[0], env.action_space.n, hidden_size, lr, gamma)\n",
        "    ##############################\n",
        "\n",
        "    step = 0\n",
        "    rollout = Rollout()\n",
        "    episode_rewards = []\n",
        "\n",
        "    for i_episode in range(1, max_episodes + 1):\n",
        "        cumulative_reward = 0\n",
        "        terminated = False\n",
        "        state, _ = env.reset()\n",
        "\n",
        "        while not terminated:\n",
        "            step += 1\n",
        "\n",
        "            action, log_prob = agent.act(state)\n",
        "            state, reward, terminated, truncated, _ = env.step(action)\n",
        "\n",
        "            # сохраняем награды и флаги терминальных состояний:\n",
        "            rollout.append(log_prob, reward, terminated)\n",
        "            cumulative_reward += reward\n",
        "            terminated |= truncated\n",
        "\n",
        "        episode_rewards.append(cumulative_reward)\n",
        "\n",
        "        # выполняем обновление\n",
        "        if len(rollout.rewards) >= rollout_size:\n",
        "            agent.update(rollout)\n",
        "            mean_reward = print_mean_reward(step, episode_rewards)\n",
        "            if mean_reward >= 200:\n",
        "                print('Принято!')\n",
        "                return\n",
        "            rollout = Rollout()\n",
        "            episode_rewards = []"
      ]
    },
    {
      "cell_type": "code",
      "execution_count": null,
      "metadata": {
        "id": "VLCAZx0WJvnz"
      },
      "outputs": [],
      "source": [
        "# Реализуйте класс, задающий стратегию агента.\n",
        "# Подсказки:\n",
        "#     1) можно воспользоваться базовым классом `torch.nn.Module`,\n",
        "#     2) размер нейронной сети можно выбрать таким: (input_dim, hidden_dim, output_dim),\n",
        "#     3) в качестве функции активации возьмите гиперболический тангенс или ReLU\n",
        "#     4) подумайте, как получить на выходе из нейронной сети вероятности действий,\n",
        "#     5) для выбора действия в соответствии со стратегией, можно воспользоваться `torch.distributions.Categorical`\n",
        "#     6) помните, что помимо самого действия вам позже также пригодится логарифм его вероятности\n",
        "####### Здесь ваш код ########\n",
        "class MLPModel(nn.Module):\n",
        "    def __init__(self, state_dim, action_dim, hidden):\n",
        "        super().__init__()\n",
        "\n",
        "        self.net = nn.Sequential(\n",
        "            nn.Linear(state_dim, hidden),\n",
        "            nn.Tanh(),\n",
        "            nn.Linear(hidden, hidden),\n",
        "            nn.Tanh(),\n",
        "            nn.Linear(hidden, action_dim),\n",
        "            nn.Softmax(dim=-1)\n",
        "        )\n",
        "\n",
        "    def forward(self, state):\n",
        "        state = torch.from_numpy(state).float().to(device)\n",
        "\n",
        "        action_probs = self.net(state)\n",
        "        dist = Categorical(action_probs)\n",
        "        action = dist.sample()\n",
        "\n",
        "        return action.item(), dist.log_prob(action)\n",
        "##############################\n",
        "\n",
        "\n",
        "class ReinforceAgent:\n",
        "    def __init__(self, state_dim, action_dim, n_latent_var, lr, gamma):\n",
        "        self.lr = lr\n",
        "        self.gamma = gamma\n",
        "\n",
        "        # Инициализируйте стратегию агента и SGD оптимизатор (например, `torch.optim.Adam`)\n",
        "        ####### Здесь ваш код ########\n",
        "        self.policy = MLPModel(state_dim, action_dim, n_latent_var).to(device)\n",
        "        self.optimizer = torch.optim.Adam(self.policy.parameters(), lr=lr)\n",
        "        ##############################\n",
        "\n",
        "    def act(self, state):\n",
        "        # Произведите выбор действия и верните кортеж (действие, логарифм вероятности этого действия)\n",
        "        ####### Здесь ваш код ########\n",
        "        return self.policy(state)\n",
        "        ##############################\n",
        "\n",
        "    def update(self, rollout: Rollout):\n",
        "        # Конвертируйте накопленный список вознаграждений в список отдач. Назовем его `rewards`\n",
        "        # Подсказки:\n",
        "        #    1) обход списка стоит делать в обратном порядке,\n",
        "        #    2) не забывайте сбрасывать отдачу при окончании эпизода\n",
        "        # rewards =\n",
        "        ####### Здесь ваш код ########\n",
        "        rollout_len = len(rollout.rewards)\n",
        "        rewards = np.empty(rollout_len, dtype=float)\n",
        "        ret = 0\n",
        "        for i in reversed(range(rollout_len)):\n",
        "            reward, is_terminal = rollout.rewards[i], rollout.is_terminals[i]\n",
        "            ret = reward + (self.gamma * ret * (not is_terminal))\n",
        "            rewards[i] = ret\n",
        "        ##############################\n",
        "\n",
        "        # Выполните нормализацию вознаграждений (отдач)\n",
        "        # rewards =\n",
        "        ####### Здесь ваш код ########\n",
        "        rewards = (rewards - rewards.mean()) / (rewards.std() + 1e-7)\n",
        "        ##############################\n",
        "\n",
        "        # Вычислите ошибку `loss` и произведите шаг обновления градиентным спуском\n",
        "        # Подсказки: используйте `.to(device)`, чтобы разместить тензор на соотв. цпу/гпу\n",
        "        ####### Здесь ваш код ########\n",
        "        rewards = torch.tensor(rewards, dtype=torch.float32).to(device)\n",
        "        logprobs = torch.stack(rollout.logprobs).to(device)\n",
        "        # print(f'R: {rewards[:3]}, logprobs: {logprobs[:3]}')\n",
        "\n",
        "        loss = -logprobs * rewards\n",
        "        loss = loss.mean()\n",
        "\n",
        "        print(f'L: {loss}')\n",
        "\n",
        "        self.optimizer.zero_grad()\n",
        "        loss.backward()\n",
        "        self.optimizer.step()\n",
        "        ##############################"
      ]
    },
    {
      "cell_type": "markdown",
      "metadata": {
        "id": "EoIL5a6hJvn0"
      },
      "source": [
        "### Определяем гиперпараметры и запускаем обучение"
      ]
    },
    {
      "cell_type": "code",
      "execution_count": null,
      "metadata": {
        "id": "6Z5jJ7B3Jvn0"
      },
      "outputs": [],
      "source": [
        "from gymnasium.wrappers.time_limit import TimeLimit\n",
        "env_name = \"CartPole-v1\"\n",
        "\n",
        "run(\n",
        "    env = TimeLimit(gym.make(env_name), 1000),\n",
        "    max_episodes = 50000,  # количество эпизодов обучения\n",
        "    hidden_size = 64,  # кол-во переменных в скрытых слоях\n",
        "    rollout_size = 500,  # через столько шагов стратегия будет обновляться\n",
        "    lr = 0.01, # learning rate\n",
        "    gamma = 0.995,  # дисконтирующий множитель,\n",
        ")"
      ]
    },
    {
      "cell_type": "code",
      "execution_count": null,
      "metadata": {
        "id": "zEc712omJvn0"
      },
      "outputs": [],
      "source": [
        "\n",
        "\n"
      ]
    }
  ],
  "metadata": {
    "kernelspec": {
      "display_name": "Python 3 (ipykernel)",
      "language": "python",
      "name": "python3"
    },
    "language_info": {
      "codemirror_mode": {
        "name": "ipython",
        "version": 3
      },
      "file_extension": ".py",
      "mimetype": "text/x-python",
      "name": "python",
      "nbconvert_exporter": "python",
      "pygments_lexer": "ipython3",
      "version": "3.9.16"
    },
    "colab": {
      "provenance": []
    }
  },
  "nbformat": 4,
  "nbformat_minor": 0
}